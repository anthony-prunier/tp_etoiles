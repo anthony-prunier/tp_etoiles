{
  "cells": [
    {
      "cell_type": "markdown",
      "id": "372d0d15",
      "metadata": {
        "id": "372d0d15"
      },
      "source": [
        "# Objectif\n",
        "\n",
        "Regrouper les étoiles en fonction de plusieurs caractéristiques pour ensuite affecter n’importe quelle nouvelle étoile à l’un de ces groupes.\n",
        "\n",
        "# Mise en situation\n",
        "\n",
        "Dans l'étude des étoiles de notre galaxie, je connais la masse, le diamètre, et la distance depuis la terre de plusieurs dizaines étoiles. Je souhaite les regrouper sans connaître les caractéristiques de regroupement. Définissons 4 groupes différents.\n",
        "\n",
        "\n",
        "\n",
        "# Travail attendu\n",
        "\n",
        "Pour réaliser cette étude, vous devez sélectionner le modèle et le mode d'entraînement le plus adapté.\n",
        "\n",
        "Votre jeu de données de départ est un fichier qui va nécessiter du nettoyage.\n",
        "\n",
        "Vous constatez notamment qu’une partie des données, la 2ème moitié du fichier, a été décalée d’une colonne, et donc la colonne distance contient en réalité la donnée nom de l’étoile, la masse la distance, etc.\n",
        "\n",
        "# Caractéristiques\n",
        "\n",
        "Pour la construction du modèle, nous souhaitons considérer uniquement les caractéristiques suivantes :\n",
        "\n",
        "* Masse\n",
        "* Distance depuis la Terre\n",
        "* Rayon\n",
        "\n",
        "\n",
        "# Résultat\n",
        "\n",
        "Grâce à votre modèle, vous devez être en mesure de nous indiquer à quel groupe appartient cette étoile, et surtout combien d'étoiles appartiennent déjà à ce groupe.\n",
        "\n",
        "```\n",
        "31,Alnair,0101,4.0,3.4,260\n",
        "```\n",
        "\n",
        "# Barème de notation\n",
        "\n",
        "\n",
        "| Critère notation| Barème | Bonus |\n",
        "| ----------- | ----------- | ----------- |\n",
        "| Nettoyage de données exclusivement avec Pandas|5|1\n",
        "| Netoyage de données en partie manuel, en partie avec Pandas|3|0\n",
        "| Normalisation du jeu de données (avec MinMax, MaxAbsolu)|2|1\n",
        "| Jeu de données contenant uniquement les 3 caractéristiques utiles|3|0\n",
        "| Utilisation de matplotlib pour afficher les étoiles dans un graphique|3|0\n",
        "| Choix de l'estimateur scikit-learn le plus adapté|3|0\n",
        "| Entrainement du modèle|3|0\n",
        "| Affichage des différents groupes dans le graphique avec matplotlib|5|0\n",
        "||20|7\n",
        "\n",
        "\n",
        "# Aide complémentaire\n",
        "\n",
        "Quelques informations utiles pour la transformation de données depuis Pandas vous sont indiquées pour mener à bien la préparation de données.\n"
      ]
    },
    {
      "cell_type": "code",
      "execution_count": 1,
      "id": "8dd38b62",
      "metadata": {
        "id": "8dd38b62"
      },
      "outputs": [],
      "source": [
        "import pandas as pd"
      ]
    },
    {
      "cell_type": "code",
      "source": [
        "import pandas as pd\n",
        "\n",
        "# Chargement du fichier CSV pour voir les noms des colonnes\n",
        "data = pd.read_csv('total_stars.csv')\n",
        "print(data.columns)\n"
      ],
      "metadata": {
        "colab": {
          "base_uri": "https://localhost:8080/"
        },
        "id": "AE3rOa8gzHRS",
        "outputId": "b4f39a8a-2207-4d97-fc76-ddf1c56535e7"
      },
      "id": "AE3rOa8gzHRS",
      "execution_count": 22,
      "outputs": [
        {
          "output_type": "stream",
          "name": "stdout",
          "text": [
            "Index(['Unnamed: 0.1', 'Star_name', 'Distance', 'Mass', 'Radius', 'Luminosity',\n",
            "       'Unnamed: 6', 'Unnamed: 0', 'Star_name.1', 'Distance.1', 'Mass.1',\n",
            "       'Radius.1'],\n",
            "      dtype='object')\n"
          ]
        }
      ]
    },
    {
      "cell_type": "code",
      "execution_count": 2,
      "id": "3284ad34",
      "metadata": {
        "id": "3284ad34"
      },
      "outputs": [],
      "source": [
        "# Créer un nouveau dataframe vierge\n",
        "df = pd.DataFrame()"
      ]
    },
    {
      "cell_type": "code",
      "execution_count": 3,
      "id": "73521e5f",
      "metadata": {
        "id": "73521e5f"
      },
      "outputs": [],
      "source": [
        "# Créer une nouvelle colonne dans un dataframe\n",
        "df['new_col'] = [f'{x}' for x in range(1,100)]"
      ]
    },
    {
      "cell_type": "code",
      "execution_count": 4,
      "id": "b047c452",
      "metadata": {
        "id": "b047c452"
      },
      "outputs": [],
      "source": [
        "# Renommer une colonne\n",
        "df_renamed = df.rename(columns={'new_col': 'renamed'})"
      ]
    },
    {
      "cell_type": "code",
      "source": [
        "import re\n",
        "\n",
        "# Exemple de chaîne contenant des nombres avec différentes formats\n",
        "string = \"Voici quelques nombres : 123, 45.6, 7.89, 10, 11.22.33, 44-55\"\n",
        "\n",
        "# Regex pour sélectionner uniquement les nombres décimaux\n",
        "numbers_only = re.findall(r'\\b\\d+,\\d+|\\b\\d+\\.\\d+|\\b\\d+\\b', string)\n",
        "print(numbers_only)\n"
      ],
      "metadata": {
        "colab": {
          "base_uri": "https://localhost:8080/"
        },
        "id": "tYCvlhQK5pc8",
        "outputId": "af29472a-e23e-4c1a-d2ba-4cc43b7c44ec"
      },
      "id": "tYCvlhQK5pc8",
      "execution_count": 28,
      "outputs": [
        {
          "output_type": "stream",
          "name": "stdout",
          "text": [
            "['123', '45.6', '7.89', '10', '11.22', '33', '44', '55']\n"
          ]
        }
      ]
    },
    {
      "cell_type": "code",
      "execution_count": 51,
      "id": "edf89673",
      "metadata": {
        "colab": {
          "base_uri": "https://localhost:8080/",
          "height": 390
        },
        "id": "edf89673",
        "outputId": "f40754c1-c1a4-499d-e910-3b2c66002959"
      },
      "outputs": [
        {
          "output_type": "error",
          "ename": "ValueError",
          "evalue": "ignored",
          "traceback": [
            "\u001b[0;31m---------------------------------------------------------------------------\u001b[0m",
            "\u001b[0;31mValueError\u001b[0m                                Traceback (most recent call last)",
            "\u001b[0;32m<ipython-input-51-09f31154870c>\u001b[0m in \u001b[0;36m<cell line: 21>\u001b[0;34m()\u001b[0m\n\u001b[1;32m     19\u001b[0m     \u001b[0;32mreturn\u001b[0m \u001b[0mfloat\u001b[0m\u001b[0;34m(\u001b[0m\u001b[0mcleaned_value\u001b[0m\u001b[0;34m)\u001b[0m\u001b[0;34m\u001b[0m\u001b[0;34m\u001b[0m\u001b[0m\n\u001b[1;32m     20\u001b[0m \u001b[0;34m\u001b[0m\u001b[0m\n\u001b[0;32m---> 21\u001b[0;31m \u001b[0mdata\u001b[0m\u001b[0;34m[\u001b[0m\u001b[0;34m'Rayon'\u001b[0m\u001b[0;34m]\u001b[0m \u001b[0;34m=\u001b[0m \u001b[0mdata\u001b[0m\u001b[0;34m[\u001b[0m\u001b[0;34m'Rayon'\u001b[0m\u001b[0;34m]\u001b[0m\u001b[0;34m.\u001b[0m\u001b[0mapply\u001b[0m\u001b[0;34m(\u001b[0m\u001b[0mclean_radius\u001b[0m\u001b[0;34m)\u001b[0m\u001b[0;34m\u001b[0m\u001b[0;34m\u001b[0m\u001b[0m\n\u001b[0m\u001b[1;32m     22\u001b[0m \u001b[0;34m\u001b[0m\u001b[0m\n\u001b[1;32m     23\u001b[0m \u001b[0;31m# Sélection des caractéristiques pertinentes\u001b[0m\u001b[0;34m\u001b[0m\u001b[0;34m\u001b[0m\u001b[0m\n",
            "\u001b[0;32m/usr/local/lib/python3.10/dist-packages/pandas/core/series.py\u001b[0m in \u001b[0;36mapply\u001b[0;34m(self, func, convert_dtype, args, **kwargs)\u001b[0m\n\u001b[1;32m   4769\u001b[0m         \u001b[0mdtype\u001b[0m\u001b[0;34m:\u001b[0m \u001b[0mfloat64\u001b[0m\u001b[0;34m\u001b[0m\u001b[0;34m\u001b[0m\u001b[0m\n\u001b[1;32m   4770\u001b[0m         \"\"\"\n\u001b[0;32m-> 4771\u001b[0;31m         \u001b[0;32mreturn\u001b[0m \u001b[0mSeriesApply\u001b[0m\u001b[0;34m(\u001b[0m\u001b[0mself\u001b[0m\u001b[0;34m,\u001b[0m \u001b[0mfunc\u001b[0m\u001b[0;34m,\u001b[0m \u001b[0mconvert_dtype\u001b[0m\u001b[0;34m,\u001b[0m \u001b[0margs\u001b[0m\u001b[0;34m,\u001b[0m \u001b[0mkwargs\u001b[0m\u001b[0;34m)\u001b[0m\u001b[0;34m.\u001b[0m\u001b[0mapply\u001b[0m\u001b[0;34m(\u001b[0m\u001b[0;34m)\u001b[0m\u001b[0;34m\u001b[0m\u001b[0;34m\u001b[0m\u001b[0m\n\u001b[0m\u001b[1;32m   4772\u001b[0m \u001b[0;34m\u001b[0m\u001b[0m\n\u001b[1;32m   4773\u001b[0m     def _reduce(\n",
            "\u001b[0;32m/usr/local/lib/python3.10/dist-packages/pandas/core/apply.py\u001b[0m in \u001b[0;36mapply\u001b[0;34m(self)\u001b[0m\n\u001b[1;32m   1121\u001b[0m \u001b[0;34m\u001b[0m\u001b[0m\n\u001b[1;32m   1122\u001b[0m         \u001b[0;31m# self.f is Callable\u001b[0m\u001b[0;34m\u001b[0m\u001b[0;34m\u001b[0m\u001b[0m\n\u001b[0;32m-> 1123\u001b[0;31m         \u001b[0;32mreturn\u001b[0m \u001b[0mself\u001b[0m\u001b[0;34m.\u001b[0m\u001b[0mapply_standard\u001b[0m\u001b[0;34m(\u001b[0m\u001b[0;34m)\u001b[0m\u001b[0;34m\u001b[0m\u001b[0;34m\u001b[0m\u001b[0m\n\u001b[0m\u001b[1;32m   1124\u001b[0m \u001b[0;34m\u001b[0m\u001b[0m\n\u001b[1;32m   1125\u001b[0m     \u001b[0;32mdef\u001b[0m \u001b[0magg\u001b[0m\u001b[0;34m(\u001b[0m\u001b[0mself\u001b[0m\u001b[0;34m)\u001b[0m\u001b[0;34m:\u001b[0m\u001b[0;34m\u001b[0m\u001b[0;34m\u001b[0m\u001b[0m\n",
            "\u001b[0;32m/usr/local/lib/python3.10/dist-packages/pandas/core/apply.py\u001b[0m in \u001b[0;36mapply_standard\u001b[0;34m(self)\u001b[0m\n\u001b[1;32m   1172\u001b[0m             \u001b[0;32melse\u001b[0m\u001b[0;34m:\u001b[0m\u001b[0;34m\u001b[0m\u001b[0;34m\u001b[0m\u001b[0m\n\u001b[1;32m   1173\u001b[0m                 \u001b[0mvalues\u001b[0m \u001b[0;34m=\u001b[0m \u001b[0mobj\u001b[0m\u001b[0;34m.\u001b[0m\u001b[0mastype\u001b[0m\u001b[0;34m(\u001b[0m\u001b[0mobject\u001b[0m\u001b[0;34m)\u001b[0m\u001b[0;34m.\u001b[0m\u001b[0m_values\u001b[0m\u001b[0;34m\u001b[0m\u001b[0;34m\u001b[0m\u001b[0m\n\u001b[0;32m-> 1174\u001b[0;31m                 mapped = lib.map_infer(\n\u001b[0m\u001b[1;32m   1175\u001b[0m                     \u001b[0mvalues\u001b[0m\u001b[0;34m,\u001b[0m\u001b[0;34m\u001b[0m\u001b[0;34m\u001b[0m\u001b[0m\n\u001b[1;32m   1176\u001b[0m                     \u001b[0mf\u001b[0m\u001b[0;34m,\u001b[0m\u001b[0;34m\u001b[0m\u001b[0;34m\u001b[0m\u001b[0m\n",
            "\u001b[0;32m/usr/local/lib/python3.10/dist-packages/pandas/_libs/lib.pyx\u001b[0m in \u001b[0;36mpandas._libs.lib.map_infer\u001b[0;34m()\u001b[0m\n",
            "\u001b[0;32m<ipython-input-51-09f31154870c>\u001b[0m in \u001b[0;36mclean_radius\u001b[0;34m(value)\u001b[0m\n\u001b[1;32m     17\u001b[0m \u001b[0;32mdef\u001b[0m \u001b[0mclean_radius\u001b[0m\u001b[0;34m(\u001b[0m\u001b[0mvalue\u001b[0m\u001b[0;34m)\u001b[0m\u001b[0;34m:\u001b[0m\u001b[0;34m\u001b[0m\u001b[0;34m\u001b[0m\u001b[0m\n\u001b[1;32m     18\u001b[0m     \u001b[0mcleaned_value\u001b[0m \u001b[0;34m=\u001b[0m \u001b[0mre\u001b[0m\u001b[0;34m.\u001b[0m\u001b[0msub\u001b[0m\u001b[0;34m(\u001b[0m\u001b[0;34mr'[^0-9.-]'\u001b[0m\u001b[0;34m,\u001b[0m \u001b[0;34m''\u001b[0m\u001b[0;34m,\u001b[0m \u001b[0mvalue\u001b[0m\u001b[0;34m)\u001b[0m  \u001b[0;31m# Remplace tout sauf les chiffres, les points et les signes négatifs\u001b[0m\u001b[0;34m\u001b[0m\u001b[0;34m\u001b[0m\u001b[0m\n\u001b[0;32m---> 19\u001b[0;31m     \u001b[0;32mreturn\u001b[0m \u001b[0mfloat\u001b[0m\u001b[0;34m(\u001b[0m\u001b[0mcleaned_value\u001b[0m\u001b[0;34m)\u001b[0m\u001b[0;34m\u001b[0m\u001b[0;34m\u001b[0m\u001b[0m\n\u001b[0m\u001b[1;32m     20\u001b[0m \u001b[0;34m\u001b[0m\u001b[0m\n\u001b[1;32m     21\u001b[0m \u001b[0mdata\u001b[0m\u001b[0;34m[\u001b[0m\u001b[0;34m'Rayon'\u001b[0m\u001b[0;34m]\u001b[0m \u001b[0;34m=\u001b[0m \u001b[0mdata\u001b[0m\u001b[0;34m[\u001b[0m\u001b[0;34m'Rayon'\u001b[0m\u001b[0;34m]\u001b[0m\u001b[0;34m.\u001b[0m\u001b[0mapply\u001b[0m\u001b[0;34m(\u001b[0m\u001b[0mclean_radius\u001b[0m\u001b[0;34m)\u001b[0m\u001b[0;34m\u001b[0m\u001b[0;34m\u001b[0m\u001b[0m\n",
            "\u001b[0;31mValueError\u001b[0m: could not convert string to float: '636-981'"
          ]
        }
      ],
      "source": [
        "import pandas as pd\n",
        "import matplotlib.pyplot as plt\n",
        "from sklearn.preprocessing import MinMaxScaler\n",
        "from sklearn.cluster import KMeans\n",
        "import re\n",
        "\n",
        "\n",
        "data = pd.read_csv('total_stars.csv', usecols=['Star_name', 'Distance', 'Mass', 'Radius', 'Luminosity'])\n",
        "\n",
        "data.columns = ['Nom', 'Distance', 'Masse', 'Rayon', 'Luminosité']\n",
        "\n",
        "data = data.dropna()\n",
        "\n",
        "def clean_radius(value):\n",
        "    cleaned_value = re.sub(r'[^0-9.-]', '', value)\n",
        "    return float(cleaned_value)\n",
        "\n",
        "data['Rayon'] = data['Rayon'].apply(clean_radius)\n",
        "\n",
        "features = data[['Masse', 'Distance', 'Rayon']]\n",
        "\n",
        "scaler = MinMaxScaler()\n",
        "scaled_features = scaler.fit_transform(features)\n",
        "\n",
        "kmeans = KMeans(n_clusters=4)\n",
        "kmeans.fit(scaled_features)\n",
        "\n",
        "predicted_labels = kmeans.predict(scaled_features)\n",
        "data['Groupe'] = predicted_labels\n",
        "\n",
        "plt.scatter(data['Masse'], data['Distance'], c=data['Groupe'], cmap='viridis')\n",
        "plt.xlabel('Masse')\n",
        "plt.ylabel('Distance')\n",
        "plt.title('Groupes d\\'étoiles')\n",
        "plt.show()\n",
        "\n",
        "new_star = scaler.transform([[4.0, 3.4, 260]])\n",
        "predicted_group = kmeans.predict(new_star)\n",
        "print(f\"L'étoile appartient au groupe : {predicted_group}\")\n"
      ]
    },
    {
      "cell_type": "code",
      "execution_count": null,
      "id": "b1d5fa49",
      "metadata": {
        "id": "b1d5fa49"
      },
      "outputs": [],
      "source": [
        "#Pour vous aider, voici une fonction python qui test de convertir une chaine de caractère en nombre à virgule\n",
        "def check_float(str):\n",
        "    try:\n",
        "        float(str)\n",
        "        return True\n",
        "    except:\n",
        "        return False\n",
        "\n",
        "print(check_float('12.2'))\n",
        "print(check_float('a12'))"
      ]
    },
    {
      "cell_type": "code",
      "execution_count": null,
      "id": "14893f9e",
      "metadata": {
        "id": "14893f9e"
      },
      "outputs": [],
      "source": [
        "# Pour appliquer une fonction à tous les enregistrements d’une colonne\n",
        "def duplicate(x):\n",
        "    return x + x\n",
        "df['new_col'].apply(duplicate)"
      ]
    },
    {
      "cell_type": "code",
      "execution_count": null,
      "id": "068d0c60",
      "metadata": {
        "scrolled": true,
        "id": "068d0c60"
      },
      "outputs": [],
      "source": [
        "# Pour convertir un dataframe pandas en matrice numpy\n",
        "df.to_numpy()"
      ]
    },
    {
      "cell_type": "code",
      "execution_count": null,
      "id": "f1e0a5a8",
      "metadata": {
        "id": "f1e0a5a8"
      },
      "outputs": [],
      "source": [
        "# Fusionner 2 dataframes\n",
        "df_1 = pd.DataFrame()\n",
        "df_1['col1'] = [x for x in range(1,10)]\n",
        "df_1['col2'] = [x for x in range(1,10)]\n",
        "df_2 = pd.DataFrame()\n",
        "df_2['col2'] = [x for x in range(1,10)]\n",
        "df_concat = pd.concat([df_1, df_2])\n",
        "df_concat.info()"
      ]
    },
    {
      "cell_type": "markdown",
      "id": "5dad687f",
      "metadata": {
        "id": "5dad687f"
      },
      "source": [
        "## Normalisation MinMax\n",
        "\n",
        " $$MinMax(x) = \\frac{x - min()}{max() - min()}$$\n",
        "\n",
        "## Normalisation MaxAbs\n",
        "\n",
        " $$MaxAbs(x) = \\frac{x}{|x|}$$"
      ]
    }
  ],
  "metadata": {
    "kernelspec": {
      "display_name": "Python 3 (ipykernel)",
      "language": "python",
      "name": "python3"
    },
    "language_info": {
      "codemirror_mode": {
        "name": "ipython",
        "version": 3
      },
      "file_extension": ".py",
      "mimetype": "text/x-python",
      "name": "python",
      "nbconvert_exporter": "python",
      "pygments_lexer": "ipython3",
      "version": "3.10.9"
    },
    "colab": {
      "provenance": []
    }
  },
  "nbformat": 4,
  "nbformat_minor": 5
}